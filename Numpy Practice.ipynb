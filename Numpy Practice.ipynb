{
 "cells": [
  {
   "cell_type": "code",
   "execution_count": 52,
   "id": "a5554cfc",
   "metadata": {},
   "outputs": [],
   "source": [
    "import numpy as np"
   ]
  },
  {
   "cell_type": "code",
   "execution_count": 53,
   "id": "f9942099",
   "metadata": {},
   "outputs": [],
   "source": [
    "#Creation\n"
   ]
  },
  {
   "cell_type": "code",
   "execution_count": 3,
   "id": "c644c6fd",
   "metadata": {},
   "outputs": [],
   "source": [
    "data = np.random.rand(2,3,4)\n",
    "zeros=np.zeros((2,2,2))\n",
    "full=np.full((2,2,2),7)\n",
    "ones=np.ones(2,2,2)"
   ]
  },
  {
   "cell_type": "code",
   "execution_count": 4,
   "id": "22b2b7f0",
   "metadata": {},
   "outputs": [
    {
     "data": {
      "text/plain": [
       "array([[[0.6226004 , 0.63728812, 0.99969225, 0.23295686],\n",
       "        [0.42812099, 0.12910182, 0.91996601, 0.80012917],\n",
       "        [0.93121527, 0.00516949, 0.4965076 , 0.20494078]],\n",
       "\n",
       "       [[0.13764665, 0.50697818, 0.87629618, 0.56344218],\n",
       "        [0.21418864, 0.78503022, 0.67751233, 0.28541962],\n",
       "        [0.08911955, 0.20271771, 0.00100353, 0.74606217]]])"
      ]
     },
     "execution_count": 4,
     "metadata": {},
     "output_type": "execute_result"
    }
   ],
   "source": [
    "data"
   ]
  },
  {
   "cell_type": "code",
   "execution_count": 6,
   "id": "1be59f56",
   "metadata": {},
   "outputs": [
    {
     "data": {
      "text/plain": [
       "array([[[0., 0.],\n",
       "        [0., 0.]],\n",
       "\n",
       "       [[0., 0.],\n",
       "        [0., 0.]]])"
      ]
     },
     "execution_count": 6,
     "metadata": {},
     "output_type": "execute_result"
    }
   ],
   "source": [
    "zeros"
   ]
  },
  {
   "cell_type": "code",
   "execution_count": 7,
   "id": "0e5a4faa",
   "metadata": {},
   "outputs": [
    {
     "data": {
      "text/plain": [
       "array([[[7, 7],\n",
       "        [7, 7]],\n",
       "\n",
       "       [[7, 7],\n",
       "        [7, 7]]])"
      ]
     },
     "execution_count": 7,
     "metadata": {},
     "output_type": "execute_result"
    }
   ],
   "source": [
    "full"
   ]
  },
  {
   "cell_type": "code",
   "execution_count": 8,
   "id": "ba5aaf84",
   "metadata": {},
   "outputs": [
    {
     "data": {
      "text/plain": [
       "array([[[1., 1.],\n",
       "        [1., 1.]],\n",
       "\n",
       "       [[1., 1.],\n",
       "        [1., 1.]]])"
      ]
     },
     "execution_count": 8,
     "metadata": {},
     "output_type": "execute_result"
    }
   ],
   "source": [
    "ones"
   ]
  },
  {
   "cell_type": "code",
   "execution_count": 9,
   "id": "1489c948",
   "metadata": {},
   "outputs": [
    {
     "data": {
      "text/plain": [
       "(2, 3, 4)"
      ]
     },
     "execution_count": 9,
     "metadata": {},
     "output_type": "execute_result"
    }
   ],
   "source": [
    "data.shape"
   ]
  },
  {
   "cell_type": "code",
   "execution_count": 10,
   "id": "ccfab6e5",
   "metadata": {},
   "outputs": [
    {
     "data": {
      "text/plain": [
       "24"
      ]
     },
     "execution_count": 10,
     "metadata": {},
     "output_type": "execute_result"
    }
   ],
   "source": [
    "data.size"
   ]
  },
  {
   "cell_type": "code",
   "execution_count": 11,
   "id": "df5d47a7",
   "metadata": {},
   "outputs": [
    {
     "data": {
      "text/plain": [
       "dtype('float64')"
      ]
     },
     "execution_count": 11,
     "metadata": {},
     "output_type": "execute_result"
    }
   ],
   "source": [
    "data.dtype"
   ]
  },
  {
   "cell_type": "code",
   "execution_count": 12,
   "id": "851c1d01",
   "metadata": {},
   "outputs": [
    {
     "data": {
      "text/plain": [
       "array([[0.13764665, 0.50697818, 0.87629618, 0.56344218],\n",
       "       [0.21418864, 0.78503022, 0.67751233, 0.28541962],\n",
       "       [0.08911955, 0.20271771, 0.00100353, 0.74606217]])"
      ]
     },
     "execution_count": 12,
     "metadata": {},
     "output_type": "execute_result"
    }
   ],
   "source": [
    "data[-1]"
   ]
  },
  {
   "cell_type": "code",
   "execution_count": 13,
   "id": "bbe9ab90",
   "metadata": {},
   "outputs": [],
   "source": [
    "list1= np.random.rand(10)\n",
    "list2= np.random.rand(10)"
   ]
  },
  {
   "cell_type": "code",
   "execution_count": 14,
   "id": "81da2e88",
   "metadata": {},
   "outputs": [
    {
     "data": {
      "text/plain": [
       "array([0.11285768, 0.64131921, 0.24755843, 0.89466479, 0.47655644,\n",
       "       0.55529082, 0.08851136, 0.77015281, 0.04312901, 0.10984796])"
      ]
     },
     "execution_count": 14,
     "metadata": {},
     "output_type": "execute_result"
    }
   ],
   "source": [
    "list1"
   ]
  },
  {
   "cell_type": "code",
   "execution_count": 15,
   "id": "18058f3b",
   "metadata": {},
   "outputs": [
    {
     "data": {
      "text/plain": [
       "array([0.27513897, 0.63126439, 0.89253614, 0.69176631, 0.65415467,\n",
       "       0.18748679, 0.15983017, 0.11989042, 0.79841853, 0.68613144])"
      ]
     },
     "execution_count": 15,
     "metadata": {},
     "output_type": "execute_result"
    }
   ],
   "source": [
    "list2"
   ]
  },
  {
   "cell_type": "code",
   "execution_count": 17,
   "id": "70896d04",
   "metadata": {},
   "outputs": [],
   "source": [
    "#Basic Math\n",
    "\n",
    "add = np.add(list1,list2)\n",
    "sub = np.subtract(list1,list2)\n",
    "div = np.divide(list1,list2)\n",
    "mul = np.multiply(list1,list2)\n",
    "dot = np.dot(list1,list2)"
   ]
  },
  {
   "cell_type": "code",
   "execution_count": 18,
   "id": "97774448",
   "metadata": {},
   "outputs": [
    {
     "data": {
      "text/plain": [
       "array([0.38799666, 1.27258361, 1.14009457, 1.5864311 , 1.13071111,\n",
       "       0.74277762, 0.24834153, 0.89004324, 0.84154754, 0.79597939])"
      ]
     },
     "execution_count": 18,
     "metadata": {},
     "output_type": "execute_result"
    }
   ],
   "source": [
    "add"
   ]
  },
  {
   "cell_type": "code",
   "execution_count": 19,
   "id": "c03f563c",
   "metadata": {},
   "outputs": [
    {
     "data": {
      "text/plain": [
       "array([-0.16228129,  0.01005482, -0.6449777 ,  0.20289848, -0.17759823,\n",
       "        0.36780403, -0.07131881,  0.65026239, -0.75528952, -0.57628348])"
      ]
     },
     "execution_count": 19,
     "metadata": {},
     "output_type": "execute_result"
    }
   ],
   "source": [
    "sub"
   ]
  },
  {
   "cell_type": "code",
   "execution_count": 20,
   "id": "3b5bc2e9",
   "metadata": {},
   "outputs": [
    {
     "data": {
      "text/plain": [
       "array([0.41018428, 1.01592806, 0.27736517, 1.29330494, 0.72850728,\n",
       "       2.96175969, 0.55378379, 6.42380595, 0.05401805, 0.16009754])"
      ]
     },
     "execution_count": 20,
     "metadata": {},
     "output_type": "execute_result"
    }
   ],
   "source": [
    "div"
   ]
  },
  {
   "cell_type": "code",
   "execution_count": 21,
   "id": "a60b333d",
   "metadata": {},
   "outputs": [
    {
     "data": {
      "text/plain": [
       "array([0.03105155, 0.40484198, 0.22095485, 0.61889896, 0.31174162,\n",
       "       0.1041097 , 0.01414679, 0.09233395, 0.034435  , 0.07537014])"
      ]
     },
     "execution_count": 21,
     "metadata": {},
     "output_type": "execute_result"
    }
   ],
   "source": [
    "mul"
   ]
  },
  {
   "cell_type": "code",
   "execution_count": 22,
   "id": "fa8f4b6f",
   "metadata": {},
   "outputs": [
    {
     "data": {
      "text/plain": [
       "1.9078845249645118"
      ]
     },
     "execution_count": 22,
     "metadata": {},
     "output_type": "execute_result"
    }
   ],
   "source": [
    "dot"
   ]
  },
  {
   "cell_type": "code",
   "execution_count": 24,
   "id": "4589e7f2",
   "metadata": {},
   "outputs": [],
   "source": [
    "#statistical functions\n",
    "\n",
    "sqrt = np.sqrt(25)\n",
    "ab = np.abs(-2)\n",
    "power = np.power(2,7)\n",
    "log = np.log(25)\n",
    "exp = np.exp([2,3])\n",
    "mins = np.min(list1)\n",
    "maxs = np.max(list1)"
   ]
  },
  {
   "cell_type": "code",
   "execution_count": 25,
   "id": "0d06072e",
   "metadata": {},
   "outputs": [
    {
     "data": {
      "text/plain": [
       "5.0"
      ]
     },
     "execution_count": 25,
     "metadata": {},
     "output_type": "execute_result"
    }
   ],
   "source": [
    "sqrt"
   ]
  },
  {
   "cell_type": "code",
   "execution_count": 26,
   "id": "339b315a",
   "metadata": {},
   "outputs": [
    {
     "data": {
      "text/plain": [
       "2"
      ]
     },
     "execution_count": 26,
     "metadata": {},
     "output_type": "execute_result"
    }
   ],
   "source": [
    "ab"
   ]
  },
  {
   "cell_type": "code",
   "execution_count": 27,
   "id": "e773a839",
   "metadata": {},
   "outputs": [
    {
     "data": {
      "text/plain": [
       "128"
      ]
     },
     "execution_count": 27,
     "metadata": {},
     "output_type": "execute_result"
    }
   ],
   "source": [
    "power"
   ]
  },
  {
   "cell_type": "code",
   "execution_count": 28,
   "id": "d5865a8e",
   "metadata": {},
   "outputs": [
    {
     "data": {
      "text/plain": [
       "3.2188758248682006"
      ]
     },
     "execution_count": 28,
     "metadata": {},
     "output_type": "execute_result"
    }
   ],
   "source": [
    "log"
   ]
  },
  {
   "cell_type": "code",
   "execution_count": 29,
   "id": "d043f11f",
   "metadata": {},
   "outputs": [
    {
     "data": {
      "text/plain": [
       "array([ 7.3890561 , 20.08553692])"
      ]
     },
     "execution_count": 29,
     "metadata": {},
     "output_type": "execute_result"
    }
   ],
   "source": [
    "exp"
   ]
  },
  {
   "cell_type": "code",
   "execution_count": 30,
   "id": "dafb9f0c",
   "metadata": {},
   "outputs": [
    {
     "data": {
      "text/plain": [
       "0.04312901321406193"
      ]
     },
     "execution_count": 30,
     "metadata": {},
     "output_type": "execute_result"
    }
   ],
   "source": [
    "mins"
   ]
  },
  {
   "cell_type": "code",
   "execution_count": 31,
   "id": "e4f66c67",
   "metadata": {},
   "outputs": [
    {
     "data": {
      "text/plain": [
       "0.8946647893819496"
      ]
     },
     "execution_count": 31,
     "metadata": {},
     "output_type": "execute_result"
    }
   ],
   "source": [
    "maxs"
   ]
  },
  {
   "cell_type": "code",
   "execution_count": 32,
   "id": "cf9aa4d8",
   "metadata": {},
   "outputs": [],
   "source": [
    "#data manipulation\n"
   ]
  },
  {
   "cell_type": "code",
   "execution_count": 33,
   "id": "2b3f9a15",
   "metadata": {},
   "outputs": [
    {
     "data": {
      "text/plain": [
       "array([[[0.6226004 , 0.63728812, 0.99969225, 0.23295686],\n",
       "        [0.42812099, 0.12910182, 0.91996601, 0.80012917],\n",
       "        [0.93121527, 0.00516949, 0.4965076 , 0.20494078]],\n",
       "\n",
       "       [[0.13764665, 0.50697818, 0.87629618, 0.56344218],\n",
       "        [0.21418864, 0.78503022, 0.67751233, 0.28541962],\n",
       "        [0.08911955, 0.20271771, 0.00100353, 0.74606217]]])"
      ]
     },
     "execution_count": 33,
     "metadata": {},
     "output_type": "execute_result"
    }
   ],
   "source": [
    "data"
   ]
  },
  {
   "cell_type": "code",
   "execution_count": 34,
   "id": "301c4216",
   "metadata": {},
   "outputs": [],
   "source": [
    "data[0][0][0] = 700"
   ]
  },
  {
   "cell_type": "code",
   "execution_count": 35,
   "id": "cac9ab49",
   "metadata": {},
   "outputs": [
    {
     "data": {
      "text/plain": [
       "array([[[7.00000000e+02, 6.37288121e-01, 9.99692248e-01, 2.32956863e-01],\n",
       "        [4.28120991e-01, 1.29101819e-01, 9.19966006e-01, 8.00129173e-01],\n",
       "        [9.31215265e-01, 5.16948793e-03, 4.96507602e-01, 2.04940779e-01]],\n",
       "\n",
       "       [[1.37646651e-01, 5.06978176e-01, 8.76296182e-01, 5.63442182e-01],\n",
       "        [2.14188644e-01, 7.85030218e-01, 6.77512330e-01, 2.85419617e-01],\n",
       "        [8.91195479e-02, 2.02717715e-01, 1.00353037e-03, 7.46062167e-01]]])"
      ]
     },
     "execution_count": 35,
     "metadata": {},
     "output_type": "execute_result"
    }
   ],
   "source": [
    "data"
   ]
  },
  {
   "cell_type": "code",
   "execution_count": 37,
   "id": "605c6b05",
   "metadata": {},
   "outputs": [
    {
     "data": {
      "text/plain": [
       "array([[[2.32956863e-01, 6.37288121e-01, 9.99692248e-01, 7.00000000e+02],\n",
       "        [1.29101819e-01, 4.28120991e-01, 8.00129173e-01, 9.19966006e-01],\n",
       "        [5.16948793e-03, 2.04940779e-01, 4.96507602e-01, 9.31215265e-01]],\n",
       "\n",
       "       [[1.37646651e-01, 5.06978176e-01, 5.63442182e-01, 8.76296182e-01],\n",
       "        [2.14188644e-01, 2.85419617e-01, 6.77512330e-01, 7.85030218e-01],\n",
       "        [1.00353037e-03, 8.91195479e-02, 2.02717715e-01, 7.46062167e-01]]])"
      ]
     },
     "execution_count": 37,
     "metadata": {},
     "output_type": "execute_result"
    }
   ],
   "source": [
    "data.sort()\n",
    "data"
   ]
  },
  {
   "cell_type": "code",
   "execution_count": 39,
   "id": "30989f69",
   "metadata": {},
   "outputs": [
    {
     "name": "stdout",
     "output_type": "stream",
     "text": [
      "(2, 3, 4)\n"
     ]
    }
   ],
   "source": [
    "print(data.shape)"
   ]
  },
  {
   "cell_type": "code",
   "execution_count": 41,
   "id": "ccdfd3fa",
   "metadata": {},
   "outputs": [],
   "source": [
    "data = data.reshape((2,2,6))"
   ]
  },
  {
   "cell_type": "code",
   "execution_count": 42,
   "id": "4404ce19",
   "metadata": {},
   "outputs": [
    {
     "data": {
      "text/plain": [
       "(2, 2, 6)"
      ]
     },
     "execution_count": 42,
     "metadata": {},
     "output_type": "execute_result"
    }
   ],
   "source": [
    "data.shape"
   ]
  },
  {
   "cell_type": "code",
   "execution_count": 43,
   "id": "24abab71",
   "metadata": {},
   "outputs": [
    {
     "data": {
      "text/plain": [
       "array([[[0., 0.],\n",
       "        [0., 0.]],\n",
       "\n",
       "       [[0., 0.],\n",
       "        [0., 0.]]])"
      ]
     },
     "execution_count": 43,
     "metadata": {},
     "output_type": "execute_result"
    }
   ],
   "source": [
    "zeros"
   ]
  },
  {
   "cell_type": "code",
   "execution_count": 44,
   "id": "bffd726b",
   "metadata": {},
   "outputs": [
    {
     "data": {
      "text/plain": [
       "(2, 2, 2)"
      ]
     },
     "execution_count": 44,
     "metadata": {},
     "output_type": "execute_result"
    }
   ],
   "source": [
    "zeros.shape"
   ]
  },
  {
   "cell_type": "code",
   "execution_count": 45,
   "id": "6ab800a4",
   "metadata": {},
   "outputs": [],
   "source": [
    "zeros1 = np.append(zeros, [3,4])"
   ]
  },
  {
   "cell_type": "code",
   "execution_count": 46,
   "id": "e04ba44d",
   "metadata": {},
   "outputs": [
    {
     "data": {
      "text/plain": [
       "array([[[0., 0.],\n",
       "        [0., 0.]],\n",
       "\n",
       "       [[0., 0.],\n",
       "        [0., 0.]]])"
      ]
     },
     "execution_count": 46,
     "metadata": {},
     "output_type": "execute_result"
    }
   ],
   "source": [
    "zeros"
   ]
  },
  {
   "cell_type": "code",
   "execution_count": 47,
   "id": "eba550cc",
   "metadata": {},
   "outputs": [
    {
     "data": {
      "text/plain": [
       "array([0., 0., 0., 0., 0., 0., 0., 0., 3., 4.])"
      ]
     },
     "execution_count": 47,
     "metadata": {},
     "output_type": "execute_result"
    }
   ],
   "source": [
    "zeros1"
   ]
  },
  {
   "cell_type": "code",
   "execution_count": 48,
   "id": "7113665d",
   "metadata": {},
   "outputs": [],
   "source": [
    "zeros1 = np.insert(zeros1,2,1)"
   ]
  },
  {
   "cell_type": "code",
   "execution_count": 49,
   "id": "03c2d5cc",
   "metadata": {},
   "outputs": [
    {
     "data": {
      "text/plain": [
       "array([0., 0., 1., 0., 0., 0., 0., 0., 0., 3., 4.])"
      ]
     },
     "execution_count": 49,
     "metadata": {},
     "output_type": "execute_result"
    }
   ],
   "source": [
    "zeros1"
   ]
  },
  {
   "cell_type": "code",
   "execution_count": 51,
   "id": "5f82be97",
   "metadata": {},
   "outputs": [],
   "source": [
    "#Delete \n"
   ]
  },
  {
   "cell_type": "code",
   "execution_count": 54,
   "id": "819817c1",
   "metadata": {},
   "outputs": [
    {
     "data": {
      "text/plain": [
       "array([[[2.32956863e-01, 6.37288121e-01, 9.99692248e-01, 7.00000000e+02,\n",
       "         1.29101819e-01, 4.28120991e-01],\n",
       "        [8.00129173e-01, 9.19966006e-01, 5.16948793e-03, 2.04940779e-01,\n",
       "         4.96507602e-01, 9.31215265e-01]],\n",
       "\n",
       "       [[1.37646651e-01, 5.06978176e-01, 5.63442182e-01, 8.76296182e-01,\n",
       "         2.14188644e-01, 2.85419617e-01],\n",
       "        [6.77512330e-01, 7.85030218e-01, 1.00353037e-03, 8.91195479e-02,\n",
       "         2.02717715e-01, 7.46062167e-01]]])"
      ]
     },
     "execution_count": 54,
     "metadata": {},
     "output_type": "execute_result"
    }
   ],
   "source": [
    "data"
   ]
  },
  {
   "cell_type": "code",
   "execution_count": 55,
   "id": "93e91886",
   "metadata": {},
   "outputs": [
    {
     "data": {
      "text/plain": [
       "array([[[0.80012917, 0.91996601, 0.00516949, 0.20494078, 0.4965076 ,\n",
       "         0.93121527]],\n",
       "\n",
       "       [[0.67751233, 0.78503022, 0.00100353, 0.08911955, 0.20271771,\n",
       "         0.74606217]]])"
      ]
     },
     "execution_count": 55,
     "metadata": {},
     "output_type": "execute_result"
    }
   ],
   "source": [
    "np.delete(data, 0 , axis=1)"
   ]
  },
  {
   "cell_type": "code",
   "execution_count": null,
   "id": "5f132bd6",
   "metadata": {},
   "outputs": [],
   "source": [
    "np.save(\"new array1\",data)"
   ]
  },
  {
   "cell_type": "code",
   "execution_count": null,
   "id": "96a87032",
   "metadata": {},
   "outputs": [],
   "source": []
  }
 ],
 "metadata": {
  "kernelspec": {
   "display_name": "Python 3",
   "language": "python",
   "name": "python3"
  },
  "language_info": {
   "codemirror_mode": {
    "name": "ipython",
    "version": 3
   },
   "file_extension": ".py",
   "mimetype": "text/x-python",
   "name": "python",
   "nbconvert_exporter": "python",
   "pygments_lexer": "ipython3",
   "version": "3.8.8"
  }
 },
 "nbformat": 4,
 "nbformat_minor": 5
}
